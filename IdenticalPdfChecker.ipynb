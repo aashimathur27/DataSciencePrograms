{
 "cells": [
  {
   "cell_type": "code",
   "execution_count": 1,
   "id": "637e516c-fbd6-4ec2-8354-b983bcdf6d7c",
   "metadata": {},
   "outputs": [],
   "source": [
    "import hashlib\n",
    "from difflib import SequenceMatcher"
   ]
  },
  {
   "cell_type": "code",
   "execution_count": null,
   "id": "8726380a-5df2-415a-91e1-64c94b8fc86e",
   "metadata": {},
   "outputs": [],
   "source": [
    "def hash_file(f1, f2):\n",
    "    h1 = hashlib.sha1()\n",
    "    h2 = hashlib.sha1()\n",
    "    with open(f1, \"rb\") as file:\n",
    "        chunk=0\n",
    "        while chunk != b' ':\n",
    "            chunk = file.read()\n",
    "            h1.update(chunk)\n",
    "\n",
    "    with open(f2, \"rb\") as file:\n",
    "        chunk = 0\n",
    "        while chunk != b'': \n",
    "            chunk = file.read(1024) \n",
    "            h2.update(chunk) \n",
    "        return h1.hexdigest(), h2.hexdigest()\n",
    "\n",
    "mg1, mg2 = hash_file('ExplanationofTasks.pdf', 'drivelink_r&d.pdf')\n",
    "if(msg1 != msg2): \n",
    "    print(\"These files are not identical\") \n",
    "else: \n",
    "    print(\"These files are identical\") "
   ]
  },
  {
   "cell_type": "code",
   "execution_count": null,
   "id": "bd1d4988-47fa-45a1-8103-f11ff724d190",
   "metadata": {},
   "outputs": [],
   "source": []
  }
 ],
 "metadata": {
  "kernelspec": {
   "display_name": "Python 3 (ipykernel)",
   "language": "python",
   "name": "python3"
  },
  "language_info": {
   "codemirror_mode": {
    "name": "ipython",
    "version": 3
   },
   "file_extension": ".py",
   "mimetype": "text/x-python",
   "name": "python",
   "nbconvert_exporter": "python",
   "pygments_lexer": "ipython3",
   "version": "3.12.4"
  }
 },
 "nbformat": 4,
 "nbformat_minor": 5
}
