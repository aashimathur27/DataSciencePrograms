{
 "cells": [
  {
   "cell_type": "code",
   "execution_count": 2,
   "id": "889d49f4-6720-4c81-8341-59a4fafad0c8",
   "metadata": {},
   "outputs": [
    {
     "name": "stdout",
     "output_type": "stream",
     "text": [
      "Guess the word! HINT: word is a name of a fruit\n",
      "_ _ _ _ _ _ \n",
      "\n"
     ]
    },
    {
     "name": "stdin",
     "output_type": "stream",
     "text": [
      "Enter a letter to guess:  a\n"
     ]
    },
    {
     "name": "stdout",
     "output_type": "stream",
     "text": [
      "_ a _ a _ a \n"
     ]
    },
    {
     "name": "stdin",
     "output_type": "stream",
     "text": [
      "Enter a letter to guess:  b\n"
     ]
    },
    {
     "name": "stdout",
     "output_type": "stream",
     "text": [
      "b a _ a _ a \n"
     ]
    },
    {
     "name": "stdin",
     "output_type": "stream",
     "text": [
      "Enter a letter to guess:  n\n"
     ]
    },
    {
     "name": "stdout",
     "output_type": "stream",
     "text": [
      "The word is:  banana\n",
      "Congratulations, You won!\n"
     ]
    }
   ],
   "source": [
    "# Hangman Game\n",
    "import random\n",
    "from collections import Counter\n",
    "\n",
    "someWords = '''apple banana mango strawberry \n",
    "orange grape pineapple apricot lemon coconut watermelon \n",
    "cherry papaya berry peach lychee muskmelon'''\n",
    "\n",
    "someWords = someWords.split(' ')\n",
    "# randomly choosing a word from our \"someWords\" LIST.\n",
    "word = random.choice(someWords)\n",
    "\n",
    "if __name__ == '__main__':\n",
    "    print('Guess the word! HINT: word is a name of a fruit')\n",
    "\n",
    "    for i in word:\n",
    "        #printing the empty spaces for the word\n",
    "        print('_', end=' ')\n",
    "    print()\n",
    "\n",
    "    playing = True\n",
    "    # List for storing the letters guessed by the player\n",
    "    letterGuessed = ''\n",
    "    chances = len(word) + 2\n",
    "    correct = 0\n",
    "    flag = 0\n",
    "    try:\n",
    "        while (chances != 0) and flag == 0:  # Flag is updated when the word is correctly guessed\n",
    "            print()\n",
    "            chances -= 1\n",
    "\n",
    "            try:\n",
    "                guess = str(input('Enter a letter to guess: '))\n",
    "            except:\n",
    "                print('Enter only a letter!')\n",
    "                continue\n",
    "\n",
    "            # Validation\n",
    "            if not guess.isalpha():\n",
    "                print('Enter only a LETTER')\n",
    "                continue\n",
    "            elif len(guess) > 1:\n",
    "                print('Enter only a SINGLE letter')\n",
    "                continue\n",
    "            elif guess in letterGuessed:\n",
    "                print('You have already guessed that letter')\n",
    "                continue\n",
    "\n",
    "            if guess in word:\n",
    "                # k stores the number of times the guessed letter occurs in the word\n",
    "                k = word.count(guess)\n",
    "                for _ in range(k):\n",
    "                    letterGuessed += guess  # The guessed letter is added as many times as it occurs\n",
    "\n",
    "            for char in word:\n",
    "                if char in letterGuessed and (Counter(letterGuessed) != Counter(word)):\n",
    "                    print(char, end=' ')\n",
    "                    correct += 1\n",
    "                    \n",
    "                # if the user guesses the correct word,\n",
    "                elif (Counter(letterGuessed) == Counter(word)):\n",
    "                    print(\"The word is: \", end=' ')\n",
    "                    print(word)\n",
    "                    flag = 1\n",
    "                    print('Congratulations, You won!')\n",
    "                    break  # To break out of the for loop\n",
    "                    break  # To break out of the while loop\n",
    "                else:\n",
    "                    print('_', end=' ')\n",
    "\n",
    "        # If user has used all of his chances\n",
    "        if chances <= 0 and (Counter(letterGuessed) != Counter(word)):\n",
    "            print()\n",
    "            print('You lost! Try again..')\n",
    "            print('The word was {}'.format(word))\n",
    "\n",
    "    except KeyboardInterrupt:\n",
    "        print()\n",
    "        print('Bye! Try again.')\n",
    "        exit()"
   ]
  },
  {
   "cell_type": "code",
   "execution_count": null,
   "id": "da2d3091-c72c-4df7-a469-c3b6a3c4c40a",
   "metadata": {},
   "outputs": [],
   "source": []
  }
 ],
 "metadata": {
  "kernelspec": {
   "display_name": "Python 3 (ipykernel)",
   "language": "python",
   "name": "python3"
  },
  "language_info": {
   "codemirror_mode": {
    "name": "ipython",
    "version": 3
   },
   "file_extension": ".py",
   "mimetype": "text/x-python",
   "name": "python",
   "nbconvert_exporter": "python",
   "pygments_lexer": "ipython3",
   "version": "3.12.4"
  }
 },
 "nbformat": 4,
 "nbformat_minor": 5
}
