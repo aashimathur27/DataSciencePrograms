{
 "cells": [
  {
   "cell_type": "code",
   "execution_count": 2,
   "id": "1926865a-bb3f-4ec1-a3a2-4241bb220f2e",
   "metadata": {},
   "outputs": [
    {
     "name": "stdout",
     "output_type": "stream",
     "text": [
      "Defaulting to user installation because normal site-packages is not writeable\n",
      "Requirement already satisfied: pywebio in c:\\users\\dell\\appdata\\roaming\\python\\python312\\site-packages (1.8.3)\n",
      "Requirement already satisfied: tornado>=5.0 in c:\\programdata\\anaconda3\\lib\\site-packages (from pywebio) (6.4.1)\n",
      "Requirement already satisfied: user-agents in c:\\users\\dell\\appdata\\roaming\\python\\python312\\site-packages (from pywebio) (2.2.0)\n",
      "Requirement already satisfied: ua-parser>=0.10.0 in c:\\users\\dell\\appdata\\roaming\\python\\python312\\site-packages (from user-agents->pywebio) (0.18.0)\n",
      "Note: you may need to restart the kernel to use updated packages.\n"
     ]
    }
   ],
   "source": [
    "pip install pywebio"
   ]
  },
  {
   "cell_type": "code",
   "execution_count": 2,
   "id": "f9449e3a-a588-40f0-bfa7-3b2f2ddc2da1",
   "metadata": {},
   "outputs": [],
   "source": [
    "import json\n",
    "import requests\n",
    "from pywebio.input import *\n",
    "from pywebio.output import *\n",
    "from pywebio.session import *"
   ]
  },
  {
   "cell_type": "code",
   "execution_count": null,
   "id": "5ba76ce5-af7a-401a-b22b-d147f72e870c",
   "metadata": {},
   "outputs": [],
   "source": [
    "def get_fun_fact(_):\n",
    "    clear()\n",
    "    put_html(\n",
    "        '<p align=\"left\">'\n",
    "        '<h2><img src=\"https://media.geeksforgeeks.org/wp-content/uploads/20210720224119/MessagingHappyicon.png\" width=\"7%\"> Fun Fact Generator</h2>'\n",
    "        '</p>'\n",
    "    )\n",
    "    \n",
    "    # URL from where we will fetch the data\n",
    "    url = \"https://uselessfacts.jsph.pl/random.json?language=en\"\n",
    "    response = requests.get(url)\n",
    "    data = json.loads(response.text)\n",
    "    useless_fact = data['text']\n",
    "    style(put_text(useless_fact), 'color:blue; font-size: 30px')\n",
    "    \n",
    "    put_buttons(\n",
    "        [dict(label='Click me', value='outline-success', color='outline-success')],\n",
    "        onclick=get_fun_fact\n",
    "    )\n",
    "\n",
    "# Driver Function\n",
    "if __name__ == '__main__':\n",
    "    put_html(\n",
    "        '<p align=\"left\">'\n",
    "        '<h2><img src=\"https://media.geeksforgeeks.org/wp-content/uploads/20210720224119/MessagingHappyicon.png\" width=\"7%\"> Fun Fact Generator</h2>'\n",
    "        '</p>'\n",
    "    )\n",
    "    \n",
    "    put_buttons(\n",
    "        [dict(label='Click me', value='outline-success', color='outline-success')],\n",
    "        onclick=get_fun_fact\n",
    "    )\n",
    "    hold()"
   ]
  },
  {
   "cell_type": "code",
   "execution_count": null,
   "id": "4633bab9-b9e6-4662-8bab-93a63bed736c",
   "metadata": {},
   "outputs": [],
   "source": []
  }
 ],
 "metadata": {
  "kernelspec": {
   "display_name": "Python 3 (ipykernel)",
   "language": "python",
   "name": "python3"
  },
  "language_info": {
   "codemirror_mode": {
    "name": "ipython",
    "version": 3
   },
   "file_extension": ".py",
   "mimetype": "text/x-python",
   "name": "python",
   "nbconvert_exporter": "python",
   "pygments_lexer": "ipython3",
   "version": "3.12.4"
  }
 },
 "nbformat": 4,
 "nbformat_minor": 5
}
