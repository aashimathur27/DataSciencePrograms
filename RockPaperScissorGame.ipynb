{
 "cells": [
  {
   "cell_type": "code",
   "execution_count": 7,
   "id": "6e2de84c-bc64-4fd2-a1ef-5e7d8a6315a6",
   "metadata": {},
   "outputs": [
    {
     "name": "stdout",
     "output_type": "stream",
     "text": [
      "the rules of the game are as follows: \n",
      "rock Vs. paper = paper wins \n",
      "paper Vs. scissor = scissor wins \n",
      "rock Vs. scissor = rock wins \n",
      "\n",
      "then enter your choice : \n",
      " 1.rock \n",
      " 2.paper \n",
      " 3.scissor\n"
     ]
    },
    {
     "name": "stdin",
     "output_type": "stream",
     "text": [
      "enter the choice: \n",
      " 2\n"
     ]
    },
    {
     "name": "stdout",
     "output_type": "stream",
     "text": [
      "the user's choice is:  Paper\n",
      "alright..now it's computer's turn\n",
      "computer's choice is:  Scissor\n",
      "Paper Vs. Scissor\n",
      "computer wins\n",
      "do you want to play again?? (Y/N) : \n"
     ]
    },
    {
     "name": "stdin",
     "output_type": "stream",
     "text": [
      " n\n"
     ]
    },
    {
     "name": "stdout",
     "output_type": "stream",
     "text": [
      "Thanks for playing the game..\n"
     ]
    }
   ],
   "source": [
    "import random\n",
    "print(\"the rules of the game are as follows: \\n\"\n",
    "      \"rock Vs. paper = paper wins \\n\"\n",
    "      \"paper Vs. scissor = scissor wins \\n\"\n",
    "      \"rock Vs. scissor = rock wins \\n\")\n",
    "while True:\n",
    "    print(\"then enter your choice : \\n 1.rock \\n 2.paper \\n 3.scissor\")\n",
    "    choice = int(input(\"enter the choice: \\n\"))\n",
    "    while choice>3 or choice<1:\n",
    "        choice = int(input(\"enter a valid choice please: \"))\n",
    "    if choice==1:\n",
    "        choice_name = \"Rock\"\n",
    "    elif choice==2:\n",
    "        choice_name = \"Paper\"\n",
    "    else:\n",
    "        choice_name = \"Scissor\"\n",
    "\n",
    "    print(\"the user's choice is: \", choice_name)\n",
    "    print(\"alright..now it's computer's turn\")\n",
    "\n",
    "    comp_choice = random.randint(1,3)\n",
    "    if comp_choice == 1:\n",
    "        comp_choice_name = \"Rock\"\n",
    "    elif comp_choice == 2:\n",
    "        comp_choice_name = \"Paper\"\n",
    "    else:\n",
    "        comp_choice_name = \"Scissor\"\n",
    "\n",
    "    print(\"computer's choice is: \", comp_choice_name)\n",
    "    print(choice_name, \"Vs.\" ,comp_choice_name)\n",
    "\n",
    "    if choice==comp_choice:\n",
    "        result = \"draw\"\n",
    "    elif (choice==1 and comp_choice==2) or (choice==2 and comp_choice==1):\n",
    "        result = \"Paper\"\n",
    "    elif (choice==2 and comp_choice==3) or (choice==3 and comp_choice==2):\n",
    "        result = \"Scissor\"\n",
    "    elif (choice==1 and comp_choice==3) or (choice==3 and comp_choice==1):\n",
    "        result = \"Rock\"\n",
    "\n",
    "    if result== \"draw\":\n",
    "        print(\"it's a tie\")\n",
    "    elif result==choice_name:\n",
    "        print(\"you win\")\n",
    "    else:\n",
    "        print(\"computer wins\")\n",
    "\n",
    "    print(\"do you want to play again?? (Y/N) : \")\n",
    "    ans = input().lower()\n",
    "    if ans == 'n':\n",
    "        break\n",
    "        \n",
    "print(\"Thanks for playing the game..\")"
   ]
  },
  {
   "cell_type": "code",
   "execution_count": null,
   "id": "7eeb7c02-ee34-470e-a1bb-ad4ab59cb1da",
   "metadata": {},
   "outputs": [],
   "source": []
  }
 ],
 "metadata": {
  "kernelspec": {
   "display_name": "Python 3 (ipykernel)",
   "language": "python",
   "name": "python3"
  },
  "language_info": {
   "codemirror_mode": {
    "name": "ipython",
    "version": 3
   },
   "file_extension": ".py",
   "mimetype": "text/x-python",
   "name": "python",
   "nbconvert_exporter": "python",
   "pygments_lexer": "ipython3",
   "version": "3.12.4"
  }
 },
 "nbformat": 4,
 "nbformat_minor": 5
}
